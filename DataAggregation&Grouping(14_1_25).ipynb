{
  "nbformat": 4,
  "nbformat_minor": 0,
  "metadata": {
    "colab": {
      "provenance": [],
      "authorship_tag": "ABX9TyME2Hr7nxMgR+lLpm8ROWqd",
      "include_colab_link": true
    },
    "kernelspec": {
      "name": "python3",
      "display_name": "Python 3"
    },
    "language_info": {
      "name": "python"
    }
  },
  "cells": [
    {
      "cell_type": "markdown",
      "metadata": {
        "id": "view-in-github",
        "colab_type": "text"
      },
      "source": [
        "<a href=\"https://colab.research.google.com/github/zeeshanishfaq20/Python-Practice/blob/main/DataAggregation%26Grouping(14_1_25).ipynb\" target=\"_parent\"><img src=\"https://colab.research.google.com/assets/colab-badge.svg\" alt=\"Open In Colab\"/></a>"
      ]
    },
    {
      "cell_type": "code",
      "source": [
        "# import pandas library\n",
        "import pandas as pd"
      ],
      "metadata": {
        "id": "byJrvrsiP4x_"
      },
      "execution_count": 1,
      "outputs": []
    },
    {
      "cell_type": "code",
      "source": [
        "# define sample data\n",
        "data = {\n",
        "    \"date\": [\"2025-01-01\", \"2025-01-01\", \"2025-01-02\", \"2025-01-02\"],\n",
        "    \"product_id\": [101, 102, 101, 103],\n",
        "    \"product_name\": [\"Widget A\", \"Widget B\", \"Widget A\", \"Widget C\"],\n",
        "    \"quantity_sold\": [10, 5, 7, 3],\n",
        "    \"price_per_unit\": [5.00, 15.00, 5.00, 12.00]\n",
        "}\n",
        "\n",
        "# create dataframe from dictionary\n",
        "df = pd.DataFrame(data)\n",
        "\n",
        "# convert 'price_per_unit' to integer\n",
        "df['price_per_unit'] = df['price_per_unit'].astype(int)\n",
        "\n",
        "# print the results\n",
        "print(df)\n"
      ],
      "metadata": {
        "colab": {
          "base_uri": "https://localhost:8080/"
        },
        "id": "XYscD9ZmlXeV",
        "outputId": "6a056cbb-a15f-4ada-9f77-065ad75ce491"
      },
      "execution_count": 7,
      "outputs": [
        {
          "output_type": "stream",
          "name": "stdout",
          "text": [
            "         date  product_id product_name  quantity_sold  price_per_unit\n",
            "0  2025-01-01         101     Widget A             10               5\n",
            "1  2025-01-01         102     Widget B              5              15\n",
            "2  2025-01-02         101     Widget A              7               5\n",
            "3  2025-01-02         103     Widget C              3              12\n"
          ]
        }
      ]
    },
    {
      "cell_type": "code",
      "source": [
        "# calculate the total sales in total_sales column\n",
        "df['total_sales'] = df['quantity_sold'] * df['price_per_unit']\n",
        "\n",
        "# print the results\n",
        "print(df)"
      ],
      "metadata": {
        "colab": {
          "base_uri": "https://localhost:8080/"
        },
        "id": "zGSGvipGli9E",
        "outputId": "4661cfa9-4bed-43e1-a547-2e4f464b1769"
      },
      "execution_count": 8,
      "outputs": [
        {
          "output_type": "stream",
          "name": "stdout",
          "text": [
            "         date  product_id product_name  quantity_sold  price_per_unit  \\\n",
            "0  2025-01-01         101     Widget A             10               5   \n",
            "1  2025-01-01         102     Widget B              5              15   \n",
            "2  2025-01-02         101     Widget A              7               5   \n",
            "3  2025-01-02         103     Widget C              3              12   \n",
            "\n",
            "   total_sales  \n",
            "0           50  \n",
            "1           75  \n",
            "2           35  \n",
            "3           36  \n"
          ]
        }
      ]
    },
    {
      "cell_type": "code",
      "source": [
        "# group the data by product ID\n",
        "total_sales_by_product = df.groupby('product_id')['total_sales'].sum().reset_index()\n",
        "\n",
        "# print the results\n",
        "print(total_sales_by_product)"
      ],
      "metadata": {
        "colab": {
          "base_uri": "https://localhost:8080/"
        },
        "id": "qIq76s-Ron5P",
        "outputId": "194556e0-f446-4398-84fe-5cc5d8445d91"
      },
      "execution_count": 11,
      "outputs": [
        {
          "output_type": "stream",
          "name": "stdout",
          "text": [
            "   product_id  total_sales\n",
            "0         101           85\n",
            "1         102           75\n",
            "2         103           36\n"
          ]
        }
      ]
    }
  ]
}