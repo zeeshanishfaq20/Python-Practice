{
  "cells": [
    {
      "cell_type": "markdown",
      "metadata": {
        "id": "view-in-github",
        "colab_type": "text"
      },
      "source": [
        "<a href=\"https://colab.research.google.com/github/zeeshanishfaq20/Python-Practice/blob/main/SQLiteDBInter.ipynb\" target=\"_parent\"><img src=\"https://colab.research.google.com/assets/colab-badge.svg\" alt=\"Open In Colab\"/></a>"
      ]
    },
    {
      "cell_type": "code",
      "source": [
        "import sqlite3"
      ],
      "metadata": {
        "id": "pOHqdHBrZZv2"
      },
      "execution_count": 1,
      "outputs": []
    },
    {
      "cell_type": "code",
      "source": [
        "con = conn = sqlite3.connect(r\"C:\\Users\\block360_\\SQLite1\\database.db\")\n"
      ],
      "metadata": {
        "id": "2tsU_m6oZr3a"
      },
      "execution_count": 5,
      "outputs": []
    },
    {
      "cell_type": "code",
      "source": [
        "cur = conn.cursor()"
      ],
      "metadata": {
        "id": "2dEzBhaVqg0X"
      },
      "execution_count": 6,
      "outputs": []
    },
    {
      "cell_type": "code",
      "source": [
        "cur.execute(\"CREATE TABLE sales_data(date,product_id,product_name,quantity_sold,price_per_unit)\")\n"
      ],
      "metadata": {
        "colab": {
          "base_uri": "https://localhost:8080/"
        },
        "id": "vQKthZcoqnQ5",
        "outputId": "b1091c0b-4da6-465a-dda1-0bc1379224f0"
      },
      "execution_count": 7,
      "outputs": [
        {
          "output_type": "execute_result",
          "data": {
            "text/plain": [
              "<sqlite3.Cursor at 0x7cfeadda4140>"
            ]
          },
          "metadata": {},
          "execution_count": 7
        }
      ]
    },
    {
      "cell_type": "code",
      "source": [
        "cur.execute(\"\"\"\n",
        "    INSERT INTO sales_data VALUES\n",
        "        (2025-01-01,101,'Widget A',10,5.00),\n",
        "        (2025-01-01,102,'Widget B',5,15.00),\n",
        "        (2025-01-02,101,'Widget A',7,5.00),\n",
        "        (2025-01-02,103,'Widget C',3,12.00)\n",
        "\"\"\")\n"
      ],
      "metadata": {
        "colab": {
          "base_uri": "https://localhost:8080/"
        },
        "id": "6F7wxVxNqs1g",
        "outputId": "5f75048b-1832-4dfc-b8b4-a5a26e228c91"
      },
      "execution_count": 8,
      "outputs": [
        {
          "output_type": "execute_result",
          "data": {
            "text/plain": [
              "<sqlite3.Cursor at 0x7cfeadda4140>"
            ]
          },
          "metadata": {},
          "execution_count": 8
        }
      ]
    },
    {
      "cell_type": "code",
      "source": [
        "conn.commit()\n"
      ],
      "metadata": {
        "id": "2ZTRtndFqyWk"
      },
      "execution_count": 9,
      "outputs": []
    },
    {
      "cell_type": "code",
      "source": [
        "res = cur.execute(\"SELECT * FROM sales_data\")\n",
        "res.fetchall()"
      ],
      "metadata": {
        "colab": {
          "base_uri": "https://localhost:8080/"
        },
        "id": "ESSgWcDQq24T",
        "outputId": "4765213a-01d3-49af-db2b-514236ece677"
      },
      "execution_count": 11,
      "outputs": [
        {
          "output_type": "execute_result",
          "data": {
            "text/plain": [
              "[(2023, 101, 'Widget A', 10, 5.0),\n",
              " (2023, 102, 'Widget B', 5, 15.0),\n",
              " (2022, 101, 'Widget A', 7, 5.0),\n",
              " (2022, 103, 'Widget C', 3, 12.0)]"
            ]
          },
          "metadata": {},
          "execution_count": 11
        }
      ]
    },
    {
      "cell_type": "code",
      "source": [
        "cur.execute(\"CREATE TABLE customers(customer_id,customer_name,location)\")"
      ],
      "metadata": {
        "colab": {
          "base_uri": "https://localhost:8080/"
        },
        "id": "stQVKkJPq8q7",
        "outputId": "0c68a017-2048-4a33-e850-22b865f26320"
      },
      "execution_count": 12,
      "outputs": [
        {
          "output_type": "execute_result",
          "data": {
            "text/plain": [
              "<sqlite3.Cursor at 0x7cfeadda4140>"
            ]
          },
          "metadata": {},
          "execution_count": 12
        }
      ]
    },
    {
      "cell_type": "code",
      "source": [
        "cur.execute(\n",
        "    \"\"\"INSERT INTO customers VALUES\n",
        "        (1,'John Doe','New York'),\n",
        "        (2,'Jane Smith','San Francisco'),\n",
        "        (3,'Bob Johnson','Chicago')\"\"\"\n",
        ")"
      ],
      "metadata": {
        "colab": {
          "base_uri": "https://localhost:8080/"
        },
        "id": "DJWWY1pItvDC",
        "outputId": "a3a9002f-34a9-4e91-fe19-d4da0b2b86d1"
      },
      "execution_count": 13,
      "outputs": [
        {
          "output_type": "execute_result",
          "data": {
            "text/plain": [
              "<sqlite3.Cursor at 0x7cfeadda4140>"
            ]
          },
          "metadata": {},
          "execution_count": 13
        }
      ]
    },
    {
      "cell_type": "code",
      "source": [
        "conn.commit()"
      ],
      "metadata": {
        "id": "gOBU1brmuBY9"
      },
      "execution_count": 14,
      "outputs": []
    },
    {
      "cell_type": "code",
      "source": [
        "res = cur.execute(\"SELECT * FROM customers\")\n",
        "res.fetchall()"
      ],
      "metadata": {
        "colab": {
          "base_uri": "https://localhost:8080/"
        },
        "id": "3IPIEAt5uHKP",
        "outputId": "856f3d57-49aa-4847-8ad3-59cbd361ee34"
      },
      "execution_count": 15,
      "outputs": [
        {
          "output_type": "execute_result",
          "data": {
            "text/plain": [
              "[(1, 'John Doe', 'New York'),\n",
              " (2, 'Jane Smith', 'San Francisco'),\n",
              " (3, 'Bob Johnson', 'Chicago')]"
            ]
          },
          "metadata": {},
          "execution_count": 15
        }
      ]
    }
  ],
  "metadata": {
    "colab": {
      "name": "Welcome To Colab",
      "provenance": [],
      "include_colab_link": true
    },
    "kernelspec": {
      "display_name": "Python 3",
      "name": "python3"
    }
  },
  "nbformat": 4,
  "nbformat_minor": 0
}