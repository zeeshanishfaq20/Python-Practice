{
  "nbformat": 4,
  "nbformat_minor": 0,
  "metadata": {
    "colab": {
      "provenance": [],
      "authorship_tag": "ABX9TyOE7uXv/9EJy6SQ1EvW+Wb6",
      "include_colab_link": true
    },
    "kernelspec": {
      "name": "python3",
      "display_name": "Python 3"
    },
    "language_info": {
      "name": "python"
    }
  },
  "cells": [
    {
      "cell_type": "markdown",
      "metadata": {
        "id": "view-in-github",
        "colab_type": "text"
      },
      "source": [
        "<a href=\"https://colab.research.google.com/github/zeeshanishfaq20/Python-Practice/blob/main/data_wrangling(14.1.25).ipynb\" target=\"_parent\"><img src=\"https://colab.research.google.com/assets/colab-badge.svg\" alt=\"Open In Colab\"/></a>"
      ]
    },
    {
      "cell_type": "code",
      "source": [
        "import pandas as pd\n",
        "\n",
        "# Read the CSV file into a pandas DataFrame\n",
        "df = pd.read_csv(r\"C:\\Users\\block360_\\Desktop\\ds.csv\")\n",
        "\n",
        "# Print general information about the DataFrame (data types, non-null values, etc.)\n",
        "print(\"Dataframe information:\")\n",
        "df.info()\n",
        "\n",
        "# Print summary statistics of the DataFrame's numerical columns (mean, median, etc.)\n",
        "print(\"Summary statistics:\")\n",
        "df.describe()\n",
        "\n",
        "# Check for duplicate rows in the DataFrame\n",
        "print(\"Number of duplicate rows before cleaning:\")\n",
        "print(df.duplicated().sum())  # Count the number of duplicates\n",
        "\n",
        "# Create a new DataFrame containing rows without missing values (dropna())\n",
        "df_cleaned = df.dropna()\n",
        "\n",
        "# Fill missing values in the 'salary' column with the mean salary\n",
        "df['salary'] = df['salary'].fillna(df['salary'].mean())\n",
        "\n",
        "# Fill missing values in the 'age' column with the mean age\n",
        "df['age'] = df['age'].fillna(df['age'].mean())\n",
        "\n",
        "# Convert all characters in the 'name' column to lowercase and remove leading/trailing spaces\n",
        "df['name'] = df['name'].str.lower().str.strip()\n",
        "\n",
        "# Convert all characters in the 'city' column to lowercase and remove leading/trailing spaces\n",
        "df['city'] = df['city'].str.lower().str.strip()\n",
        "\n",
        "# Fill missing values in the 'name' column with 'unknown' (replace with a suitable value)\n",
        "df['name'] = df['name'].fillna('unknown')\n",
        "\n",
        "# Convert 'salary' and 'age' columns to integer data type\n",
        "df['salary'] = df['salary'].astype(int)\n",
        "df['age'] = df['age'].astype(int)\n",
        "\n",
        "# Drop duplicate rows from the cleaned DataFrame\n",
        "df_cleaned = df.drop_duplicates()\n",
        "\n",
        "# Check for missing values after cleaning\n",
        "print(\"Number of missing values after cleaning:\")\n",
        "print(df_cleaned.isnull().sum())  # Count the number of missing values in each column\n",
        "\n",
        "# Check for duplicate rows after cleaning\n",
        "print(\"Number of duplicate rows after cleaning:\")\n",
        "print(df_cleaned.duplicated().sum())  # Count the number of duplicates\n",
        "\n",
        "# Save the cleaned DataFrame to a CSV file (without index)\n",
        "df_cleaned.to_csv('cleaned_data.csv', index=False)\n",
        "\n",
        "# Print the cleaned DataFrame\n",
        "print(\"Cleaned DataFrame:\")\n",
        "print(df_cleaned)"
      ],
      "metadata": {
        "id": "byJrvrsiP4x_"
      },
      "execution_count": null,
      "outputs": []
    }
  ]
}